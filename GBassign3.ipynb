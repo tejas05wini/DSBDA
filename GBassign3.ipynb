{
 "cells": [
  {
   "cell_type": "code",
   "execution_count": 14,
   "id": "2962c9b8-b342-45a2-aa7f-6e3e95ccc217",
   "metadata": {},
   "outputs": [],
   "source": [
    "# Group B Assignment 3 \n",
    "# Locate dataset (e.g., sample_weather.txt) for working on weather data which reads the text input files and finds average for temperature, dew point and wind speed."
   ]
  },
  {
   "cell_type": "code",
   "execution_count": 1,
   "id": "8ac86b53-549f-43ea-a06d-7792651ad170",
   "metadata": {},
   "outputs": [
    {
     "name": "stdout",
     "output_type": "stream",
     "text": [
      "Defaulting to user installation because normal site-packages is not writeable\n",
      "Requirement already satisfied: pandas in c:\\users\\tejaswini chandargi\\appdata\\roaming\\python\\python313\\site-packages (2.2.3)\n",
      "Requirement already satisfied: numpy>=1.26.0 in c:\\users\\tejaswini chandargi\\appdata\\roaming\\python\\python313\\site-packages (from pandas) (2.2.2)\n",
      "Requirement already satisfied: python-dateutil>=2.8.2 in c:\\users\\tejaswini chandargi\\appdata\\roaming\\python\\python313\\site-packages (from pandas) (2.9.0.post0)\n",
      "Requirement already satisfied: pytz>=2020.1 in c:\\users\\tejaswini chandargi\\appdata\\roaming\\python\\python313\\site-packages (from pandas) (2024.2)\n",
      "Requirement already satisfied: tzdata>=2022.7 in c:\\users\\tejaswini chandargi\\appdata\\roaming\\python\\python313\\site-packages (from pandas) (2025.1)\n",
      "Requirement already satisfied: six>=1.5 in c:\\users\\tejaswini chandargi\\appdata\\roaming\\python\\python313\\site-packages (from python-dateutil>=2.8.2->pandas) (1.17.0)\n"
     ]
    },
    {
     "name": "stderr",
     "output_type": "stream",
     "text": [
      "\n",
      "[notice] A new release of pip is available: 24.3.1 -> 25.0\n",
      "[notice] To update, run: python.exe -m pip install --upgrade pip\n"
     ]
    }
   ],
   "source": [
    "# Command to install pandas \n",
    "!pip install pandas"
   ]
  },
  {
   "cell_type": "code",
   "execution_count": 2,
   "id": "68cd43b9-539d-4daa-856a-c393ba020c81",
   "metadata": {},
   "outputs": [],
   "source": [
    "# Loaded the library\n",
    "import pandas as pd"
   ]
  },
  {
   "cell_type": "code",
   "execution_count": 4,
   "id": "55f3a9d7-02ca-4d5e-ac04-6f7528b00f3e",
   "metadata": {},
   "outputs": [],
   "source": [
    "# Load the dataset into a DataFrame\n",
    "# read_csv is used to read the data form csv files\n",
    "df = pd.read_csv(\"weatherhistory.csv\")  "
   ]
  },
  {
   "cell_type": "code",
   "execution_count": 15,
   "id": "2a431ec2-35ce-4652-b96f-d62b0a45285a",
   "metadata": {},
   "outputs": [
    {
     "name": "stdout",
     "output_type": "stream",
     "text": [
      "                  Formatted Date        Summary Precip Type  Temperature  \\\n",
      "0  2006-04-01 00:00:00.000 +0200  Partly Cloudy        rain     9.472222   \n",
      "1  2006-04-01 01:00:00.000 +0200  Partly Cloudy        rain     9.355556   \n",
      "2  2006-04-01 02:00:00.000 +0200  Mostly Cloudy        rain     9.377778   \n",
      "3  2006-04-01 03:00:00.000 +0200  Partly Cloudy        rain     8.288889   \n",
      "4  2006-04-01 04:00:00.000 +0200  Mostly Cloudy        rain     8.755556   \n",
      "\n",
      "   DewPoint  Humidity  WindSpeed  Wind Bearing (degrees)  Visibility (km)  \\\n",
      "0  7.388889      0.89    14.1197                   251.0          15.8263   \n",
      "1  7.227778      0.86    14.2646                   259.0          15.8263   \n",
      "2  9.377778      0.89     3.9284                   204.0          14.9569   \n",
      "3  5.944444      0.83    14.1036                   269.0          15.8263   \n",
      "4  6.977778      0.83    11.0446                   259.0          15.8263   \n",
      "\n",
      "   Loud Cover  Pressure (millibars)                      Daily Summary  \n",
      "0         0.0               1015.13  Partly cloudy throughout the day.  \n",
      "1         0.0               1015.63  Partly cloudy throughout the day.  \n",
      "2         0.0               1015.94  Partly cloudy throughout the day.  \n",
      "3         0.0               1016.41  Partly cloudy throughout the day.  \n",
      "4         0.0               1016.51  Partly cloudy throughout the day.  \n"
     ]
    }
   ],
   "source": [
    "# Display the first few rows to understand the structure of the data\n",
    "# head(n) function is used to view the rows of a dataframe\n",
    "# n is optional \n",
    "# default value of n is 5\n",
    "print(df.head())"
   ]
  },
  {
   "cell_type": "code",
   "execution_count": 6,
   "id": "fd3397ba-55ad-4547-bd43-40fae661d0b0",
   "metadata": {},
   "outputs": [
    {
     "name": "stdout",
     "output_type": "stream",
     "text": [
      "Index(['Formatted Date', 'Summary', 'Precip Type', 'Temperature (C)',\n",
      "       'Apparent Temperature (C)', 'Humidity', 'Wind Speed (km/h)',\n",
      "       'Wind Bearing (degrees)', 'Visibility (km)', 'Loud Cover',\n",
      "       'Pressure (millibars)', 'Daily Summary'],\n",
      "      dtype='object')\n"
     ]
    }
   ],
   "source": [
    "# Display column names to verify correct labels \n",
    "print(df.columns)\n"
   ]
  },
  {
   "cell_type": "code",
   "execution_count": 8,
   "id": "a545914b-6812-4b59-bd1e-b9c87947c6d1",
   "metadata": {},
   "outputs": [],
   "source": [
    "# Rename columns as per the requirements \n",
    "# rename() function is used to rename the function\n",
    "# inplace=True is used to return a modified copy of dataframe\n",
    "df.rename(columns={\n",
    "    \"Temperature (C)\": \"Temperature\",\n",
    "    \"Apparent Temperature (C)\": \"DewPoint\",  # Using Apparent Temperature as Dew Point alternative\n",
    "    \"Wind Speed (km/h)\": \"WindSpeed\"\n",
    "}, inplace=True)"
   ]
  },
  {
   "cell_type": "code",
   "execution_count": 9,
   "id": "01d2d2e2-442c-4581-a08b-a45dbd9d1031",
   "metadata": {},
   "outputs": [
    {
     "name": "stdout",
     "output_type": "stream",
     "text": [
      "Index(['Formatted Date', 'Summary', 'Precip Type', 'Temperature', 'DewPoint',\n",
      "       'Humidity', 'WindSpeed', 'Wind Bearing (degrees)', 'Visibility (km)',\n",
      "       'Loud Cover', 'Pressure (millibars)', 'Daily Summary'],\n",
      "      dtype='object')\n"
     ]
    }
   ],
   "source": [
    "# Check if renaming was successful\n",
    "print(df.columns)\n"
   ]
  },
  {
   "cell_type": "code",
   "execution_count": 10,
   "id": "ff6c2bd1-0a94-4744-98b2-aac292e05a41",
   "metadata": {},
   "outputs": [],
   "source": [
    "# Compute averages of temperature , dew point and wind speed \n",
    "avg_temp = df[\"Temperature\"].mean()\n",
    "avg_dew_point = df[\"DewPoint\"].mean()\n",
    "avg_wind_speed = df[\"WindSpeed\"].mean()"
   ]
  },
  {
   "cell_type": "code",
   "execution_count": 11,
   "id": "5ffbbb8e-95e6-461d-8ad2-60e61aa8abeb",
   "metadata": {},
   "outputs": [
    {
     "name": "stdout",
     "output_type": "stream",
     "text": [
      "Average Temperature: 11.93°C\n",
      "Average Dew Point: 10.86°C\n",
      "Average Wind Speed: 10.81 km/h\n"
     ]
    }
   ],
   "source": [
    "# Print results\n",
    "print(f\"Average Temperature: {avg_temp:.2f}°C\")\n",
    "print(f\"Average Dew Point: {avg_dew_point:.2f}°C\") \n",
    "print(f\"Average Wind Speed: {avg_wind_speed:.2f} km/h\")\n"
   ]
  },
  {
   "cell_type": "code",
   "execution_count": 12,
   "id": "6d2446d1-68c8-4d38-8f9d-dd6d0cf86e02",
   "metadata": {},
   "outputs": [],
   "source": [
    "# Save the cleaned data to a new CSV file\n",
    "df.to_csv(\"processed_weatherhistory.csv\", index=False)"
   ]
  },
  {
   "cell_type": "code",
   "execution_count": null,
   "id": "e88c1e0c-21b2-4c74-8762-07d32fb28560",
   "metadata": {},
   "outputs": [],
   "source": []
  }
 ],
 "metadata": {
  "kernelspec": {
   "display_name": "Python 3 (ipykernel)",
   "language": "python",
   "name": "python3"
  },
  "language_info": {
   "codemirror_mode": {
    "name": "ipython",
    "version": 3
   },
   "file_extension": ".py",
   "mimetype": "text/x-python",
   "name": "python",
   "nbconvert_exporter": "python",
   "pygments_lexer": "ipython3",
   "version": "3.13.1"
  }
 },
 "nbformat": 4,
 "nbformat_minor": 5
}
